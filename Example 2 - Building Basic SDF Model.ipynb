{
 "cells": [
  {
   "cell_type": "markdown",
   "id": "a23046cc",
   "metadata": {},
   "source": [
    "# SDF Model Example 2: Building From Scratch\n",
    "\n",
    " In this jupyter notebook, we're going to showcase how to fit SDF models from scratch.\n",
    "\n",
    "Data and datasets are found in the `Data/` subfolder. Helper scripts and the `SDFModel` class are available in the `Scripts/` subfolder."
   ]
  },
  {
   "cell_type": "code",
   "execution_count": 1,
   "id": "41be8e94",
   "metadata": {},
   "outputs": [],
   "source": [
    "# enables direct importing of .py files\n",
    "import sys\n",
    "sys.path.insert(0, \"Scripts/\")"
   ]
  },
  {
   "cell_type": "markdown",
   "id": "194c6ae0",
   "metadata": {},
   "source": [
    "#### Version Control\n",
    "\n",
    "We output the version of all the main software to run this example. Optional software is included, which can be removed from the set if needed."
   ]
  },
  {
   "cell_type": "code",
   "execution_count": 2,
   "id": "6d0b5280",
   "metadata": {},
   "outputs": [
    {
     "name": "stdout",
     "output_type": "stream",
     "text": [
      "python: 3.9.4 | packaged by conda-forge | (default, May 10 2021, 22:10:34) [MSC v.1916 64 bit (AMD64)]\n",
      "pip: 21.1.2\n",
      "pandas: 1.2.3\n",
      "jupyter has no __version__ attribute.\n",
      "xgboost: 1.4.0\n",
      "joblib: 1.0.1\n",
      "tqdm: 4.59.0\n",
      "numpy: 1.19.2\n",
      "xlrd: 2.0.1\n",
      "matplotlib: 3.3.4\n",
      "seaborn: 0.11.1\n",
      "scipy: 1.6.2\n",
      "sklearn: 0.24.1\n"
     ]
    }
   ],
   "source": [
    "import version\n",
    "version.control({\"numpy\",\"scipy\",\"matplotlib\",\"pandas\",\"sklearn\",\n",
    "                 \"joblib\",\"tqdm\",\"jupyter\",\"xgboost\",\"seaborn\",\"xlrd\",\"pip\"})"
   ]
  },
  {
   "cell_type": "markdown",
   "id": "e04a7ddb",
   "metadata": {},
   "source": [
    "#### Other imports"
   ]
  },
  {
   "cell_type": "code",
   "execution_count": 3,
   "id": "7caf9a00",
   "metadata": {},
   "outputs": [],
   "source": [
    "import numpy as np\n",
    "import matplotlib.pyplot as plt\n",
    "import pandas as pd\n",
    "\n",
    "%matplotlib inline"
   ]
  },
  {
   "cell_type": "markdown",
   "id": "827c42e5",
   "metadata": {},
   "source": [
    "## Loading in the preprocessed SDFs\n",
    "\n",
    "Here following from the thesis, we provide a **raw** and **preprocessed** versions of the sequence-derived feature set.\n",
    "\n",
    "- Raw: base frequencies are counts, absolute minimialistic processing; requires heavy work to be used in machine learning\n",
    "- Preprocessed: scaling by gene length, applied PCA|MCA pipeline (see thesis and paper), and other steps. Can be fed directly into a machine learning regressor. **NOT associated with any expression (mRNA, protein) data**.\n",
    "\n",
    "Let's view the preprocessed data, which we provide in a .csv file. For convenience and additional functionality, we use a custom `PandaWrapper` class which simply wraps around `pandas.DataFrame` and provides nice selection functions."
   ]
  },
  {
   "cell_type": "code",
   "execution_count": 4,
   "id": "4a4128ad",
   "metadata": {},
   "outputs": [],
   "source": [
    "from pandawrapper import PandaWrapper, read"
   ]
  },
  {
   "cell_type": "markdown",
   "id": "da4b38d3",
   "metadata": {},
   "source": [
    "Here $n$ is the number of rows/samples and $p$ is the number of features/dimensions. This nomenclature is common in machine learning parlance. We also see the dataset consumes a mere 16MB in memory. The preprocessed set covers 15K samples.\n",
    "\n",
    "The file we load in here is sequence-derived features that are grouped and then processed via PCA (hence 's' for stratified). 'dg' refers to *data group*: i.e are you a mononucleotide frequency, biophysical property etc. Amino acid meta features, since they remain discrete from prior preprocessing, undergo MCA (multiple correspondence analysis) which is a PCA equivalent for discrete matrices. \n",
    "\n",
    "We also provide a `read` function which can read in multiple files at once and process them. Alternatively you could just call `pd.read_csv` and then call `PandaWrapper` on the dataframe object."
   ]
  },
  {
   "cell_type": "code",
   "execution_count": 5,
   "id": "5e7c64c3",
   "metadata": {},
   "outputs": [
    {
     "data": {
      "text/html": [
       "PandaWrapper(sPCA_dg_mca(n=15269, p=137, mem=16.735MB))"
      ],
      "text/plain": [
       "PandaWrapper(sPCA_dg_mca(n=15269, p=137, mem=16.735MB))"
      ]
     },
     "execution_count": 5,
     "metadata": {},
     "output_type": "execute_result"
    }
   ],
   "source": [
    "preproc_sdf = read(\"Data/sPCA_dg_mca.csv\")\n",
    "preproc_sdf"
   ]
  },
  {
   "cell_type": "markdown",
   "id": "1f4f1b83",
   "metadata": {},
   "source": [
    "However the true number is slightly lower due to a very small amount of overlap:"
   ]
  },
  {
   "cell_type": "code",
   "execution_count": 6,
   "id": "edcd7df1",
   "metadata": {},
   "outputs": [
    {
     "name": "stdout",
     "output_type": "stream",
     "text": [
      "unique ensembl ids: (15063,)\n",
      "unique uniprot ids: (15005,)\n"
     ]
    }
   ],
   "source": [
    "print(f\"unique ensembl ids: {preproc_sdf.ensembl_id.unique().shape}\")\n",
    "print(f\"unique uniprot ids: {preproc_sdf.uniprot_id.unique().shape}\")"
   ]
  },
  {
   "cell_type": "code",
   "execution_count": 7,
   "id": "7edf1a79",
   "metadata": {},
   "outputs": [
    {
     "data": {
      "text/html": [
       "<div>\n",
       "<style scoped>\n",
       "    .dataframe tbody tr th:only-of-type {\n",
       "        vertical-align: middle;\n",
       "    }\n",
       "\n",
       "    .dataframe tbody tr th {\n",
       "        vertical-align: top;\n",
       "    }\n",
       "\n",
       "    .dataframe thead th {\n",
       "        text-align: right;\n",
       "    }\n",
       "</style>\n",
       "<table border=\"1\" class=\"dataframe\">\n",
       "  <thead>\n",
       "    <tr style=\"text-align: right;\">\n",
       "      <th></th>\n",
       "      <th>ensembl_id</th>\n",
       "      <th>uniprot_id</th>\n",
       "      <th>PC_mononuc_freq1</th>\n",
       "      <th>PC_mononuc_freq2</th>\n",
       "      <th>PC_mononuc_freq3</th>\n",
       "      <th>PC_mononuc_freq4</th>\n",
       "      <th>PC_mononuc_freq5</th>\n",
       "      <th>PC_mononuc_freq6</th>\n",
       "      <th>PC_mononuc_freq7</th>\n",
       "      <th>PC_mononuc_freq8</th>\n",
       "      <th>...</th>\n",
       "      <th>MCA15</th>\n",
       "      <th>MCA16</th>\n",
       "      <th>MCA17</th>\n",
       "      <th>MCA18</th>\n",
       "      <th>MCA19</th>\n",
       "      <th>MCA20</th>\n",
       "      <th>MCA21</th>\n",
       "      <th>MCA22</th>\n",
       "      <th>MCA23</th>\n",
       "      <th>MCA24</th>\n",
       "    </tr>\n",
       "  </thead>\n",
       "  <tbody>\n",
       "    <tr>\n",
       "      <th>0</th>\n",
       "      <td>ENSG00000121410</td>\n",
       "      <td>P04217</td>\n",
       "      <td>4.715001</td>\n",
       "      <td>0.923349</td>\n",
       "      <td>-0.890998</td>\n",
       "      <td>0.494925</td>\n",
       "      <td>0.182820</td>\n",
       "      <td>0.366784</td>\n",
       "      <td>-0.306843</td>\n",
       "      <td>1.349806</td>\n",
       "      <td>...</td>\n",
       "      <td>0.094260</td>\n",
       "      <td>-0.004007</td>\n",
       "      <td>-0.059522</td>\n",
       "      <td>-0.037662</td>\n",
       "      <td>-0.055998</td>\n",
       "      <td>0.012324</td>\n",
       "      <td>0.076928</td>\n",
       "      <td>0.038517</td>\n",
       "      <td>-0.091606</td>\n",
       "      <td>-0.003670</td>\n",
       "    </tr>\n",
       "    <tr>\n",
       "      <th>1</th>\n",
       "      <td>ENSG00000148584</td>\n",
       "      <td>Q9NQ94</td>\n",
       "      <td>-3.837506</td>\n",
       "      <td>2.297875</td>\n",
       "      <td>-0.235609</td>\n",
       "      <td>0.215278</td>\n",
       "      <td>0.078727</td>\n",
       "      <td>0.713184</td>\n",
       "      <td>-0.547929</td>\n",
       "      <td>-0.174856</td>\n",
       "      <td>...</td>\n",
       "      <td>-0.015422</td>\n",
       "      <td>-0.110948</td>\n",
       "      <td>0.047045</td>\n",
       "      <td>0.064683</td>\n",
       "      <td>-0.081390</td>\n",
       "      <td>-0.081165</td>\n",
       "      <td>0.029678</td>\n",
       "      <td>-0.013192</td>\n",
       "      <td>0.017198</td>\n",
       "      <td>0.019519</td>\n",
       "    </tr>\n",
       "    <tr>\n",
       "      <th>2</th>\n",
       "      <td>ENSG00000175899</td>\n",
       "      <td>P01023</td>\n",
       "      <td>-1.822412</td>\n",
       "      <td>1.995094</td>\n",
       "      <td>1.345473</td>\n",
       "      <td>-0.638996</td>\n",
       "      <td>-0.528429</td>\n",
       "      <td>-0.272420</td>\n",
       "      <td>0.729907</td>\n",
       "      <td>-0.270425</td>\n",
       "      <td>...</td>\n",
       "      <td>0.048603</td>\n",
       "      <td>-0.017250</td>\n",
       "      <td>-0.039310</td>\n",
       "      <td>-0.042993</td>\n",
       "      <td>-0.002450</td>\n",
       "      <td>0.019993</td>\n",
       "      <td>0.076100</td>\n",
       "      <td>0.053227</td>\n",
       "      <td>0.034000</td>\n",
       "      <td>-0.112656</td>\n",
       "    </tr>\n",
       "  </tbody>\n",
       "</table>\n",
       "<p>3 rows × 137 columns</p>\n",
       "</div>"
      ],
      "text/plain": [
       "        ensembl_id uniprot_id  PC_mononuc_freq1  PC_mononuc_freq2  \\\n",
       "0  ENSG00000121410     P04217          4.715001          0.923349   \n",
       "1  ENSG00000148584     Q9NQ94         -3.837506          2.297875   \n",
       "2  ENSG00000175899     P01023         -1.822412          1.995094   \n",
       "\n",
       "   PC_mononuc_freq3  PC_mononuc_freq4  PC_mononuc_freq5  PC_mononuc_freq6  \\\n",
       "0         -0.890998          0.494925          0.182820          0.366784   \n",
       "1         -0.235609          0.215278          0.078727          0.713184   \n",
       "2          1.345473         -0.638996         -0.528429         -0.272420   \n",
       "\n",
       "   PC_mononuc_freq7  PC_mononuc_freq8  ...     MCA15     MCA16     MCA17  \\\n",
       "0         -0.306843          1.349806  ...  0.094260 -0.004007 -0.059522   \n",
       "1         -0.547929         -0.174856  ... -0.015422 -0.110948  0.047045   \n",
       "2          0.729907         -0.270425  ...  0.048603 -0.017250 -0.039310   \n",
       "\n",
       "      MCA18     MCA19     MCA20     MCA21     MCA22     MCA23     MCA24  \n",
       "0 -0.037662 -0.055998  0.012324  0.076928  0.038517 -0.091606 -0.003670  \n",
       "1  0.064683 -0.081390 -0.081165  0.029678 -0.013192  0.017198  0.019519  \n",
       "2 -0.042993 -0.002450  0.019993  0.076100  0.053227  0.034000 -0.112656  \n",
       "\n",
       "[3 rows x 137 columns]"
      ]
     },
     "execution_count": 7,
     "metadata": {},
     "output_type": "execute_result"
    }
   ],
   "source": [
    "preproc_sdf.head(3)"
   ]
  },
  {
   "cell_type": "markdown",
   "id": "aea2657e",
   "metadata": {},
   "source": [
    "## Loading in expression data\n",
    "\n",
    "Now we have our SDFs, it would be handy to have some expression data! For this example we have provided the mRNA and protein data provided in the Supplementary Material of Vogel et al. 2010 *Sequence signatures and mRNA concentration can explain two-thirds of protein abundance variation in a human cell line*. This dataset has also been used in our thesis. This is part of the human Daoy medulloblastoma cell line.\n",
    "\n",
    "Inspecting the file indicates that the header is not at the top, so this must be specified."
   ]
  },
  {
   "cell_type": "code",
   "execution_count": 8,
   "id": "03e2a05f",
   "metadata": {
    "scrolled": true
   },
   "outputs": [
    {
     "data": {
      "text/html": [
       "PandaWrapper(vogel_expression(n=1051, p=11, mem=0.093MB))"
      ],
      "text/plain": [
       "PandaWrapper(vogel_expression(n=1051, p=11, mem=0.093MB))"
      ]
     },
     "execution_count": 8,
     "metadata": {},
     "output_type": "execute_result"
    }
   ],
   "source": [
    "vogel = read(\"Data/vogel_expression.xls\", header=9)\n",
    "vogel"
   ]
  },
  {
   "cell_type": "markdown",
   "id": "574541b1",
   "metadata": {},
   "source": [
    "You may notice the annoyingly verbose nature of the column names. Please fix this in the future biologists. The expression data is not $log_2$-normalized, so we will adjust for that also.\n",
    "\n",
    "So what's going on here?\n",
    "\n",
    "1. We use *regex* (REGular EXpressions) to find all column names that contain 'Expression' (only 2). \n",
    "2. We use `transform`: i.e pass a function that modifies every element and returns a Series of the same size.\n",
    "3. We pass this `np.log2`, the function to compute a log-2 transformation.\n",
    "4. We pass the returned result into `join()`: an operation to append on two column-ed results, specifying that the RHS should add the string suffix '_log2' to all it's column names.\n",
    "5. We use the custom `call` function to ensure the result is re-wrapped as a `PandaWrapper` rather than `pandas.DataFrame`"
   ]
  },
  {
   "cell_type": "code",
   "execution_count": 9,
   "id": "79d41edf",
   "metadata": {},
   "outputs": [],
   "source": [
    "vogel = vogel.call(\"join\", vogel['Expression'].transform(np.log2), rsuffix=\"_log2\")"
   ]
  },
  {
   "cell_type": "code",
   "execution_count": 10,
   "id": "8ec2e0ae",
   "metadata": {},
   "outputs": [
    {
     "data": {
      "text/html": [
       "<div>\n",
       "<style scoped>\n",
       "    .dataframe tbody tr th:only-of-type {\n",
       "        vertical-align: middle;\n",
       "    }\n",
       "\n",
       "    .dataframe tbody tr th {\n",
       "        vertical-align: top;\n",
       "    }\n",
       "\n",
       "    .dataframe thead th {\n",
       "        text-align: right;\n",
       "    }\n",
       "</style>\n",
       "<table border=\"1\" class=\"dataframe\">\n",
       "  <thead>\n",
       "    <tr style=\"text-align: right;\">\n",
       "      <th></th>\n",
       "      <th>HCD</th>\n",
       "      <th>Population</th>\n",
       "      <th>EnsemblGeneID</th>\n",
       "      <th>EnsemblTranscriptID</th>\n",
       "      <th>EnsemblProteinID</th>\n",
       "      <th>Protein Expression levels (molecules/cell)</th>\n",
       "      <th>mRNA Expression Levels (arbitrary units)</th>\n",
       "      <th>5UTR Sequence</th>\n",
       "      <th>Coding Sequence</th>\n",
       "      <th>3UTR Sequence</th>\n",
       "      <th>Amino Acid Sequence</th>\n",
       "      <th>Protein Expression levels (molecules/cell)_log2</th>\n",
       "      <th>mRNA Expression Levels (arbitrary units)_log2</th>\n",
       "    </tr>\n",
       "  </thead>\n",
       "  <tbody>\n",
       "    <tr>\n",
       "      <th>0</th>\n",
       "      <td>HCD</td>\n",
       "      <td>P2</td>\n",
       "      <td>ENSG00000000971</td>\n",
       "      <td>ENST00000367429</td>\n",
       "      <td>ENSP00000356399</td>\n",
       "      <td>150.6036</td>\n",
       "      <td>2101.852653</td>\n",
       "      <td>ccttttgcagcaagttctttcctgcactaatcacaattcttggaag...</td>\n",
       "      <td>atgagacttctagcaaagattatttgccttatgttatgggctattt...</td>\n",
       "      <td>aatcaatcataaagtgcacacctttattcagaactttagtattaaa...</td>\n",
       "      <td>MRLLAKIICLMLWAICVAEDCNELPPRRNTEILTGSWSDQTYPEGT...</td>\n",
       "      <td>7.234612</td>\n",
       "      <td>11.037446</td>\n",
       "    </tr>\n",
       "    <tr>\n",
       "      <th>1</th>\n",
       "      <td>NaN</td>\n",
       "      <td>P2</td>\n",
       "      <td>ENSG00000002745</td>\n",
       "      <td>ENST00000361301</td>\n",
       "      <td>ENSP00000355065</td>\n",
       "      <td>110.5769</td>\n",
       "      <td>54.518717</td>\n",
       "      <td>agcctgcaaaaaccacagagggcaaagccagaaagatggaaaggcaccc</td>\n",
       "      <td>atgcagctcaccacttgcctcagggagaccctcttcacaggggctt...</td>\n",
       "      <td>ccactccatccagccttgggcaagatgcctcagcaatatacaatgg...</td>\n",
       "      <td>MQLTTCLRETLFTGASQKTSLWWLGIASFGVPEKLGCANLPLNSRQ...</td>\n",
       "      <td>6.788906</td>\n",
       "      <td>5.768680</td>\n",
       "    </tr>\n",
       "    <tr>\n",
       "      <th>2</th>\n",
       "      <td>NaN</td>\n",
       "      <td>P2</td>\n",
       "      <td>ENSG00000002746</td>\n",
       "      <td>ENST00000395891</td>\n",
       "      <td>ENSP00000379228</td>\n",
       "      <td>155.6035</td>\n",
       "      <td>93.004881</td>\n",
       "      <td>ggggatgcaagcgggaggataaagcgatgaagtgtgctgcgttacc...</td>\n",
       "      <td>atgctgctgcacctgtgtagtgtgaagaatctgtaccagaacaggt...</td>\n",
       "      <td>ggacatggaacctcgcctgacattttcctggccagtgacatcaccc...</td>\n",
       "      <td>MLLHLCSVKNLYQNRFLGLAAMASPSRNSQSRRRCKEPLRYSYNPD...</td>\n",
       "      <td>7.281731</td>\n",
       "      <td>6.539235</td>\n",
       "    </tr>\n",
       "    <tr>\n",
       "      <th>3</th>\n",
       "      <td>HCD</td>\n",
       "      <td>P3</td>\n",
       "      <td>ENSG00000004455</td>\n",
       "      <td>ENST00000354858</td>\n",
       "      <td>ENSP00000346921</td>\n",
       "      <td>64600.7637</td>\n",
       "      <td>3493.554230</td>\n",
       "      <td>ggcgtgcgaactggtggcagtgagagacttcggcggac</td>\n",
       "      <td>atggctcccagcgtgccagcggcagaacccgagtatcctaaaggca...</td>\n",
       "      <td>tgttgggtccaagaaggaatttctttccatccctgtgaggcaatgg...</td>\n",
       "      <td>MAPSVPAAEPEYPKGIRAVLLGPPGAGKGTQAPRLAENFCVCHLAT...</td>\n",
       "      <td>15.979264</td>\n",
       "      <td>11.770480</td>\n",
       "    </tr>\n",
       "    <tr>\n",
       "      <th>4</th>\n",
       "      <td>NaN</td>\n",
       "      <td>P3</td>\n",
       "      <td>ENSG00000004455</td>\n",
       "      <td>ENST00000373449</td>\n",
       "      <td>ENSP00000362548</td>\n",
       "      <td>64600.7637</td>\n",
       "      <td>1073.776953</td>\n",
       "      <td>gacctgggaagcactggacctgtgaggcgtgcgaactggtggcagt...</td>\n",
       "      <td>atggctcccagcgtgccagcggcagaacccgagtatcctaaaggca...</td>\n",
       "      <td>tatcagaaggccaggcgagactgcaacactgctcatcaccccgcgg...</td>\n",
       "      <td>MAPSVPAAEPEYPKGIRAVLLGPPGAGKGTQAPRLAENFCVCHLAT...</td>\n",
       "      <td>15.979264</td>\n",
       "      <td>10.068479</td>\n",
       "    </tr>\n",
       "  </tbody>\n",
       "</table>\n",
       "</div>"
      ],
      "text/plain": [
       "   HCD Population    EnsemblGeneID EnsemblTranscriptID EnsemblProteinID  \\\n",
       "0  HCD         P2  ENSG00000000971     ENST00000367429  ENSP00000356399   \n",
       "1  NaN         P2  ENSG00000002745     ENST00000361301  ENSP00000355065   \n",
       "2  NaN         P2  ENSG00000002746     ENST00000395891  ENSP00000379228   \n",
       "3  HCD         P3  ENSG00000004455     ENST00000354858  ENSP00000346921   \n",
       "4  NaN         P3  ENSG00000004455     ENST00000373449  ENSP00000362548   \n",
       "\n",
       "   Protein Expression levels (molecules/cell)  \\\n",
       "0                                    150.6036   \n",
       "1                                    110.5769   \n",
       "2                                    155.6035   \n",
       "3                                  64600.7637   \n",
       "4                                  64600.7637   \n",
       "\n",
       "   mRNA Expression Levels (arbitrary units)  \\\n",
       "0                               2101.852653   \n",
       "1                                 54.518717   \n",
       "2                                 93.004881   \n",
       "3                               3493.554230   \n",
       "4                               1073.776953   \n",
       "\n",
       "                                       5UTR Sequence  \\\n",
       "0  ccttttgcagcaagttctttcctgcactaatcacaattcttggaag...   \n",
       "1  agcctgcaaaaaccacagagggcaaagccagaaagatggaaaggcaccc   \n",
       "2  ggggatgcaagcgggaggataaagcgatgaagtgtgctgcgttacc...   \n",
       "3             ggcgtgcgaactggtggcagtgagagacttcggcggac   \n",
       "4  gacctgggaagcactggacctgtgaggcgtgcgaactggtggcagt...   \n",
       "\n",
       "                                    Coding Sequence   \\\n",
       "0  atgagacttctagcaaagattatttgccttatgttatgggctattt...   \n",
       "1  atgcagctcaccacttgcctcagggagaccctcttcacaggggctt...   \n",
       "2  atgctgctgcacctgtgtagtgtgaagaatctgtaccagaacaggt...   \n",
       "3  atggctcccagcgtgccagcggcagaacccgagtatcctaaaggca...   \n",
       "4  atggctcccagcgtgccagcggcagaacccgagtatcctaaaggca...   \n",
       "\n",
       "                                       3UTR Sequence  \\\n",
       "0  aatcaatcataaagtgcacacctttattcagaactttagtattaaa...   \n",
       "1  ccactccatccagccttgggcaagatgcctcagcaatatacaatgg...   \n",
       "2  ggacatggaacctcgcctgacattttcctggccagtgacatcaccc...   \n",
       "3  tgttgggtccaagaaggaatttctttccatccctgtgaggcaatgg...   \n",
       "4  tatcagaaggccaggcgagactgcaacactgctcatcaccccgcgg...   \n",
       "\n",
       "                                 Amino Acid Sequence  \\\n",
       "0  MRLLAKIICLMLWAICVAEDCNELPPRRNTEILTGSWSDQTYPEGT...   \n",
       "1  MQLTTCLRETLFTGASQKTSLWWLGIASFGVPEKLGCANLPLNSRQ...   \n",
       "2  MLLHLCSVKNLYQNRFLGLAAMASPSRNSQSRRRCKEPLRYSYNPD...   \n",
       "3  MAPSVPAAEPEYPKGIRAVLLGPPGAGKGTQAPRLAENFCVCHLAT...   \n",
       "4  MAPSVPAAEPEYPKGIRAVLLGPPGAGKGTQAPRLAENFCVCHLAT...   \n",
       "\n",
       "   Protein Expression levels (molecules/cell)_log2  \\\n",
       "0                                         7.234612   \n",
       "1                                         6.788906   \n",
       "2                                         7.281731   \n",
       "3                                        15.979264   \n",
       "4                                        15.979264   \n",
       "\n",
       "   mRNA Expression Levels (arbitrary units)_log2  \n",
       "0                                      11.037446  \n",
       "1                                       5.768680  \n",
       "2                                       6.539235  \n",
       "3                                      11.770480  \n",
       "4                                      10.068479  "
      ]
     },
     "execution_count": 10,
     "metadata": {},
     "output_type": "execute_result"
    }
   ],
   "source": [
    "vogel.head()"
   ]
  },
  {
   "cell_type": "markdown",
   "id": "8aebd84d",
   "metadata": {},
   "source": [
    "### Plotting the data\n",
    "\n",
    "Here for sanity we will check the mRNA/protein relationship as a scatterplot. Note that we use the `&` selection with regex terms to find the intersection between the sets (i.e all columns containing mRNA AND log2 as a string), to select the one with the log2 transformation. This is because I hate writing long column names."
   ]
  },
  {
   "cell_type": "code",
   "execution_count": 11,
   "id": "0ffb333f",
   "metadata": {},
   "outputs": [
    {
     "data": {
      "image/png": "[encoded data removed]",
      "text/plain": [
       "<Figure size 432x288 with 1 Axes>"
      ]
     },
     "metadata": {
      "needs_background": "light"
     },
     "output_type": "display_data"
    }
   ],
   "source": [
    "plt.scatter(vogel['mRNA & log2'], vogel['Protein & log2'], marker='x', color='green')\n",
    "plt.xlabel(r\"$log_2$ mRNA Expression\")\n",
    "plt.ylabel(r\"$log_2$ Protein Expression\")\n",
    "plt.show()"
   ]
  },
  {
   "cell_type": "markdown",
   "id": "1006b1e5",
   "metadata": {},
   "source": [
    "## Integrating SDF and Expression\n",
    "\n",
    "Merging the datasets is required if we are to map sequence information with mRNA/protein expression. This is normally a tricky business with finding the best unique label to integrate with, but you are in luck, as we provide a function that automatically finds the best index pairs and merges them for you!\n",
    "\n",
    "Say hello to `merge_auto`, which takes the following arguments:\n",
    "\n",
    "1. `dfs`: A list of DataFrames: the dataset(s) to merge, in chain-wise fashion from left to right\n",
    "2. `how`: Whether to use inner, outer or left merge\n",
    "3. `copy`: whether to copy the dataframes at each iteration\n",
    "4. `handle_duplicates`: whether to drop duplicates at each chain step (all), no duplicate removed or only at the end.\n",
    "5. `verbose`: error printing int"
   ]
  },
  {
   "cell_type": "code",
   "execution_count": 12,
   "id": "17a7aabc",
   "metadata": {},
   "outputs": [],
   "source": [
    "from merge_auto import merge_auto"
   ]
  },
  {
   "cell_type": "markdown",
   "id": "a8357d1c",
   "metadata": {},
   "source": [
    "This shows use that the *ensembl_id* label was used from SDF set and *ensembl_gene_id* was used from Vogel ($n=1000$), to merge, leaving $n=713$ remaining as some labels weren't identified. Note that this allows more than 2 datasets to merge, so if you want to try and keep as many labels as possible, integrating a HGNC-based consensus label set as a union operation may help to preserve higher $n$.\n",
    "\n",
    "Finally, we re-wrap our PandaWrapper class to have a nicer output in the html format, and to retain our regex-power.\n",
    "\n",
    "For details look at the `merge_auto` function."
   ]
  },
  {
   "cell_type": "code",
   "execution_count": 13,
   "id": "2796f834",
   "metadata": {},
   "outputs": [
    {
     "name": "stdout",
     "output_type": "stream",
     "text": [
      "Merging sPCA_dg_mca[15269,137] (`ensembl_id`) | vogel_expression[1051,13] (`EnsemblGeneID`) -> 713/0.68 on columns\n"
     ]
    }
   ],
   "source": [
    "intgr = PandaWrapper.wrap(\n",
    "        merge_auto([preproc_sdf, vogel], verbose=3),\n",
    "    name=\"sdf_expr\")"
   ]
  },
  {
   "cell_type": "markdown",
   "id": "953b6270",
   "metadata": {},
   "source": [
    "## Final preprocessing steps\n",
    "\n",
    "The only thing remaining now before fitting a model to this is removing unnecessary excess columns, dropping missing values and duplicates.\n",
    "\n",
    "To do this, we firstly find all the columns we'd like to remove using regex operations (~ refers to the NOT operator). We then drop NAs and then finally drop our droppable columns."
   ]
  },
  {
   "cell_type": "code",
   "execution_count": 14,
   "id": "fbdd779f",
   "metadata": {},
   "outputs": [],
   "source": [
    "droppables = PandaWrapper._sorted_union(vogel.view(\"~Expression|ID\"), preproc_sdf.view(\"id | ID\"))"
   ]
  },
  {
   "cell_type": "code",
   "execution_count": 15,
   "id": "ca782688",
   "metadata": {},
   "outputs": [],
   "source": [
    "preprocessed = (intgr.drop_duplicates(subset=\"ensembl_id\")\n",
    "                .dropna(subset=['Protein Expression levels (molecules/cell)_log2'])\n",
    "                .drop(droppables, axis=1))"
   ]
  },
  {
   "cell_type": "markdown",
   "id": "a29b761b",
   "metadata": {},
   "source": [
    "### Splitting full dataset into $\\bf X$ and $y$\n",
    "\n",
    "We'll use a similar column selection to get $\\bf X$ and $\\bf y$ datasets ready to build a simple fast ML model for demonstration. This involves splitting the data into input and target sets prior to using train-test-split and other methodologies.\n",
    "\n",
    "- $\\bf X$: Our sequence-derived information, as preprocessed\n",
    "- $\\bf y$: $\\log_2$ protein abundance from the Daoy cell line"
   ]
  },
  {
   "cell_type": "code",
   "execution_count": 16,
   "id": "4df02174",
   "metadata": {},
   "outputs": [],
   "source": [
    "X = preprocessed[preproc_sdf.view(\"~id\")]\n",
    "y = preprocessed[vogel.view(\"log2 & Protein\")].squeeze()"
   ]
  },
  {
   "cell_type": "code",
   "execution_count": 39,
   "id": "8ee292e7",
   "metadata": {},
   "outputs": [
    {
     "name": "stdout",
     "output_type": "stream",
     "text": [
      "(713, 135) (713,)\n"
     ]
    }
   ],
   "source": [
    "print(X.shape, y.shape)"
   ]
  },
  {
   "cell_type": "markdown",
   "id": "0e5a1c8a",
   "metadata": {},
   "source": [
    "## Model selection via cross-validation\n",
    "\n",
    "Here we will fit some models and ensure robustness via cross-validation."
   ]
  },
  {
   "cell_type": "markdown",
   "id": "f8c6ff66",
   "metadata": {},
   "source": [
    "Import some scikit-learn modules."
   ]
  },
  {
   "cell_type": "code",
   "execution_count": 17,
   "id": "e8a575a3",
   "metadata": {},
   "outputs": [],
   "source": [
    "from sklearn.linear_model import LinearRegression\n",
    "from sklearn.model_selection import cross_val_score, RepeatedKFold, cross_val_predict"
   ]
  },
  {
   "cell_type": "markdown",
   "id": "21e861c2",
   "metadata": {},
   "source": [
    "Now perform 5-fold cross validation with an Ordinary Least Squares model. Note that sometimes cross-validation can be unreliable particularly if the **i.i.d** assumption is weak on the dataset (certain genes may be much better used to predict other genes for instance), so we use bootstrapped samples with 10 repeats to get a distribution of scores."
   ]
  },
  {
   "cell_type": "code",
   "execution_count": 18,
   "id": "0a494a7a",
   "metadata": {},
   "outputs": [
    {
     "data": {
      "text/plain": [
       "0.38411063047682753"
      ]
     },
     "execution_count": 18,
     "metadata": {},
     "output_type": "execute_result"
    }
   ],
   "source": [
    "scores1 = cross_val_score(LinearRegression(), X, y, cv=RepeatedKFold(n_splits=5, n_repeats=10))\n",
    "scores1.mean()"
   ]
  },
  {
   "cell_type": "markdown",
   "id": "89cf2cd5",
   "metadata": {},
   "source": [
    "#### Custom metrics\n",
    "\n",
    "By default, regressors in scikit-learn use $R^2$ as the scoring metric. We can use mean-squared error or root-mean-squared-error as an alternative. We can also define a custom metric if we want to prevent $p$ from biasing $R^2$.\n",
    "\n",
    "Using an adjusted $R^2$ metric like so:"
   ]
  },
  {
   "cell_type": "code",
   "execution_count": 109,
   "id": "b3be2eb3",
   "metadata": {},
   "outputs": [],
   "source": [
    "from sklearn.metrics import r2_score, make_scorer\n",
    "from functools import partial"
   ]
  },
  {
   "cell_type": "code",
   "execution_count": 105,
   "id": "c48a6660",
   "metadata": {},
   "outputs": [],
   "source": [
    "def adjusted_r2(y_true, y_pred, n, p):\n",
    "    \"\"\"where n is the number of samples, p is the number of independent regressors (i.e number of variables)\"\"\"\n",
    "    r2 = r2_score(y_true, y_pred)\n",
    "    return 1.-(((1.-r2)*(n-1))/(n-p-1.))"
   ]
  },
  {
   "cell_type": "markdown",
   "id": "6a954656",
   "metadata": {},
   "source": [
    "Now we can use this function as a custom scorer. This is a little bit 'hacky' as technically `sklearn` only accepts functions that have `y_true` and `y_pred` as arguments. So we can use the `functools.partial` function to *wrap* the $n$ and $p$ arguments which are fixed for every iteration as determined by the dimensionality of $\\bf X$."
   ]
  },
  {
   "cell_type": "code",
   "execution_count": 113,
   "id": "1e6d3800",
   "metadata": {},
   "outputs": [],
   "source": [
    "my_r2 = partial(adjusted_r2, n=X.shape[0], p=X.shape[1])\n",
    "# because make_scorer wants the function to have a name, we cheese it by setting the underlying attribute.\n",
    "my_r2.__name__ = \"adjusted_r2\""
   ]
  },
  {
   "cell_type": "markdown",
   "id": "76218876",
   "metadata": {},
   "source": [
    "Hacks aside, now we re-run the cross-validation, with a new scoring function."
   ]
  },
  {
   "cell_type": "code",
   "execution_count": 114,
   "id": "716d7d9b",
   "metadata": {},
   "outputs": [
    {
     "data": {
      "text/plain": [
       "array([0.37193831, 0.20791436, 0.20359763, 0.2995551 , 0.24476313,\n",
       "       0.16505784, 0.38173485, 0.28671935, 0.0310692 , 0.27066877,\n",
       "       0.27771069, 0.17161738, 0.22086264, 0.24317672, 0.34542926,\n",
       "       0.01401739, 0.36446322, 0.3442708 , 0.19119252, 0.32816241,\n",
       "       0.18338465, 0.07961727, 0.29786323, 0.36412441, 0.24448793,\n",
       "       0.1983554 , 0.31821385, 0.26402619, 0.34133621, 0.26728592,\n",
       "       0.32456455, 0.35173129, 0.08312647, 0.34819148, 0.09777643,\n",
       "       0.1677034 , 0.29436099, 0.28491729, 0.25330665, 0.07482236,\n",
       "       0.06260473, 0.35063711, 0.23685246, 0.36471904, 0.23684158,\n",
       "       0.2159368 , 0.35619149, 0.2718726 , 0.39398039, 0.10272764])"
      ]
     },
     "execution_count": 114,
     "metadata": {},
     "output_type": "execute_result"
    }
   ],
   "source": [
    "cross_val_score(LinearRegression(), X, y, cv=RepeatedKFold(n_splits=5, n_repeats=10), scoring=make_scorer(my_r2))"
   ]
  },
  {
   "cell_type": "markdown",
   "id": "9826d003",
   "metadata": {},
   "source": [
    "#### Distribution of scores\n",
    "\n",
    "Verifying by distribution, both as histogram and kde estimate:"
   ]
  },
  {
   "cell_type": "code",
   "execution_count": 19,
   "id": "b4375560",
   "metadata": {},
   "outputs": [],
   "source": [
    "from scipy import stats"
   ]
  },
  {
   "cell_type": "code",
   "execution_count": 85,
   "id": "a0ff1f7d",
   "metadata": {},
   "outputs": [
    {
     "data": {
      "image/png": "[encoded data removed]",
      "text/plain": [
       "<Figure size 432x288 with 1 Axes>"
      ]
     },
     "metadata": {
      "needs_background": "light"
     },
     "output_type": "display_data"
    }
   ],
   "source": [
    "kde = stats.kde.gaussian_kde(scores1)\n",
    "x_points = np.linspace(0, 1, 50)\n",
    "\n",
    "plt.hist(scores1, bins=np.arange(0, 1, .05),\n",
    "         density=True, histtype=\"stepfilled\")\n",
    "plt.plot(x_points, kde(x_points))\n",
    "plt.xlabel(r\"$r^2$ score distribution\")\n",
    "plt.show()"
   ]
  },
  {
   "cell_type": "markdown",
   "id": "367d3590",
   "metadata": {},
   "source": [
    "## Re-fitting models for prediction and coefficients\n",
    "\n",
    "Now that we can see the models fitted are stable, we will re-fit a model and then look at the coefficients generated, and could use this model to potentially predict new proteins (although not that reliably given this dataset)."
   ]
  },
  {
   "cell_type": "code",
   "execution_count": 21,
   "id": "d8e03033",
   "metadata": {},
   "outputs": [
    {
     "data": {
      "text/plain": [
       "LinearRegression()"
      ]
     },
     "execution_count": 21,
     "metadata": {},
     "output_type": "execute_result"
    }
   ],
   "source": [
    "model1 = LinearRegression()\n",
    "model1.fit(X, y)"
   ]
  },
  {
   "cell_type": "markdown",
   "id": "b370e5a7",
   "metadata": {},
   "source": [
    "#### Looking at feature coefficients...\n",
    "\n",
    "Which are the greatest and lowest coefficients?"
   ]
  },
  {
   "cell_type": "code",
   "execution_count": 22,
   "id": "5b1ece2c",
   "metadata": {},
   "outputs": [
    {
     "data": {
      "text/plain": [
       "MCA17              -4.051566\n",
       "PC_biophysical1    -2.894988\n",
       "MCA18              -2.568343\n",
       "MCA12              -2.553949\n",
       "MCA23              -2.076042\n",
       "                      ...   \n",
       "PC_mononuc_freq2    1.381323\n",
       "PC_mononuc_freq6    1.730381\n",
       "PC_entropy2         1.863330\n",
       "PC_aa_freq2         2.193870\n",
       "PC_biophysical4     2.684593\n",
       "Length: 135, dtype: float64"
      ]
     },
     "execution_count": 22,
     "metadata": {},
     "output_type": "execute_result"
    }
   ],
   "source": [
    "pd.Series(model1.coef_, index=X.columns).sort_values()"
   ]
  },
  {
   "cell_type": "markdown",
   "id": "0c2f0893",
   "metadata": {},
   "source": [
    "#### Predictions\n",
    "\n",
    "Here we will take some of the rows which were dropped in the merging process, and generate estimated $log_2$ protein abundances for these values.\n",
    "\n",
    "We take the full SDF set and the integrated label set and take the set difference."
   ]
  },
  {
   "cell_type": "code",
   "execution_count": 31,
   "id": "dcfadcf5",
   "metadata": {},
   "outputs": [],
   "source": [
    "non_integrated_labels = set(preproc_sdf['ensembl_id'].unique()) - set(intgr['ensembl_id'].unique())"
   ]
  },
  {
   "cell_type": "markdown",
   "id": "2e61af74",
   "metadata": {},
   "source": [
    "Now we select all that contain the non-integrated labels, and use them to generate a large test set to make predictions from."
   ]
  },
  {
   "cell_type": "code",
   "execution_count": 46,
   "id": "2dc8e414",
   "metadata": {},
   "outputs": [],
   "source": [
    "X_test = (preproc_sdf[preproc_sdf['ensembl_id'].isin(non_integrated_labels)]\n",
    "          .call(\"drop_duplicates\", subset=['ensembl_id'])\n",
    "          .call(\"dropna\")\n",
    "          ['~id$'])"
   ]
  },
  {
   "cell_type": "code",
   "execution_count": 55,
   "id": "1675ac6f",
   "metadata": {},
   "outputs": [
    {
     "data": {
      "text/html": [
       "PandaWrapper(sPCA_dg_mca(n=14350, p=135, mem=15.613MB))"
      ],
      "text/plain": [
       "PandaWrapper(sPCA_dg_mca(n=14350, p=135, mem=15.613MB))"
      ]
     },
     "execution_count": 55,
     "metadata": {},
     "output_type": "execute_result"
    }
   ],
   "source": [
    "X_test"
   ]
  },
  {
   "cell_type": "markdown",
   "id": "a92e344c",
   "metadata": {},
   "source": [
    "Generate predictions."
   ]
  },
  {
   "cell_type": "code",
   "execution_count": 54,
   "id": "6dfe4bbe",
   "metadata": {},
   "outputs": [],
   "source": [
    "y_test = model1.predict(X_test)"
   ]
  },
  {
   "cell_type": "markdown",
   "id": "1ea19de1",
   "metadata": {},
   "source": [
    "## Fitting models including mRNA abundance\n",
    "\n",
    "Now we will repeat but include the mRNA abundance as a feature to improve model accuracy."
   ]
  },
  {
   "cell_type": "code",
   "execution_count": 79,
   "id": "2f95c0eb",
   "metadata": {},
   "outputs": [],
   "source": [
    "X2 = preprocessed[preproc_sdf.view(\"~id\").union(vogel.view(\"mRNA & log2\"))]"
   ]
  },
  {
   "cell_type": "markdown",
   "id": "734513b4",
   "metadata": {},
   "source": [
    "Now for re-scoring."
   ]
  },
  {
   "cell_type": "code",
   "execution_count": 80,
   "id": "f49b9c4b",
   "metadata": {},
   "outputs": [
    {
     "data": {
      "text/plain": [
       "0.39783374114099984"
      ]
     },
     "execution_count": 80,
     "metadata": {},
     "output_type": "execute_result"
    }
   ],
   "source": [
    "scores2 = cross_val_score(LinearRegression(), X2, y, cv=RepeatedKFold(n_splits=5, n_repeats=10))\n",
    "scores2.mean()"
   ]
  },
  {
   "cell_type": "code",
   "execution_count": 87,
   "id": "28f39eb2",
   "metadata": {},
   "outputs": [
    {
     "data": {
      "image/png": "[encoded data removed]",
      "text/plain": [
       "<Figure size 432x288 with 1 Axes>"
      ]
     },
     "metadata": {
      "needs_background": "light"
     },
     "output_type": "display_data"
    }
   ],
   "source": [
    "kde2 = stats.kde.gaussian_kde(scores2)\n",
    "x_points = np.linspace(0, 1, 50)\n",
    "\n",
    "plt.plot(x_points, kde2(x_points), label=\"with mRNA\")\n",
    "plt.plot(x_points, kde(x_points), label=\"w/out mRNA\")\n",
    "plt.xlabel(r\"$r^2$ score distribution\")\n",
    "plt.legend()\n",
    "plt.show()"
   ]
  },
  {
   "cell_type": "markdown",
   "id": "85dbb13f",
   "metadata": {},
   "source": [
    "We'll try using a Ridge $\\ell_2$-regularizer term to reduce the impact of unessential SDFs, even though the coefficients seem reasonably well behaved."
   ]
  },
  {
   "cell_type": "code",
   "execution_count": 88,
   "id": "e90b956a",
   "metadata": {},
   "outputs": [],
   "source": [
    "from sklearn.linear_model import RidgeCV"
   ]
  },
  {
   "cell_type": "code",
   "execution_count": 93,
   "id": "af929d78",
   "metadata": {},
   "outputs": [
    {
     "data": {
      "text/plain": [
       "RidgeCV(alphas=array([1.00000000e-04, 1.32035178e-04, 1.74332882e-04, 2.30180731e-04,\n",
       "       3.03919538e-04, 4.01280703e-04, 5.29831691e-04, 6.99564216e-04,\n",
       "       9.23670857e-04, 1.21957046e-03, 1.61026203e-03, 2.12611233e-03,\n",
       "       2.80721620e-03, 3.70651291e-03, 4.89390092e-03, 6.46167079e-03,\n",
       "       8.53167852e-03, 1.12648169e-02, 1.48735211e-02, 1.96382800e-02,\n",
       "       2.59294380e-02, 3.42359796e-02, 4.52035366e-02, 5.96845700e-02,\n",
       "       7.88046282e-02, 1.04049831e-01, 1.37382380e-01, 1.81393069e-01,\n",
       "       2.39502662e-01, 3.16227766e-01]),\n",
       "        cv=RepeatedKFold(n_repeats=10, n_splits=5, random_state=None))"
      ]
     },
     "execution_count": 93,
     "metadata": {},
     "output_type": "execute_result"
    }
   ],
   "source": [
    "model2 = RidgeCV(alphas=np.logspace(-4, -.5, 30), cv=RepeatedKFold(n_splits=5, n_repeats=10))\n",
    "model2.fit(X2, y)"
   ]
  },
  {
   "cell_type": "code",
   "execution_count": 100,
   "id": "a442c0d1",
   "metadata": {},
   "outputs": [
    {
     "data": {
      "text/plain": [
       "0.4196036811817225"
      ]
     },
     "execution_count": 100,
     "metadata": {},
     "output_type": "execute_result"
    }
   ],
   "source": [
    "model2.best_score_"
   ]
  },
  {
   "cell_type": "markdown",
   "id": "0bc4633d",
   "metadata": {},
   "source": [
    "Best alpha out of the samples provided."
   ]
  },
  {
   "cell_type": "code",
   "execution_count": 101,
   "id": "5b759c18",
   "metadata": {},
   "outputs": [
    {
     "data": {
      "text/plain": [
       "0.31622776601683794"
      ]
     },
     "execution_count": 101,
     "metadata": {},
     "output_type": "execute_result"
    }
   ],
   "source": [
    "model2.alpha_"
   ]
  },
  {
   "cell_type": "markdown",
   "id": "04a1d6d8",
   "metadata": {},
   "source": [
    "This is the end of this notebook. In the next one, we'll look at some pre-trained models and how to use them."
   ]
  }
 ],
 "metadata": {
  "kernelspec": {
   "display_name": "Python 3",
   "language": "python",
   "name": "python3"
  },
  "language_info": {
   "codemirror_mode": {
    "name": "ipython",
    "version": 3
   },
   "file_extension": ".py",
   "mimetype": "text/x-python",
   "name": "python",
   "nbconvert_exporter": "python",
   "pygments_lexer": "ipython3",
   "version": "3.9.4"
  }
 },
 "nbformat": 4,
 "nbformat_minor": 5
}
