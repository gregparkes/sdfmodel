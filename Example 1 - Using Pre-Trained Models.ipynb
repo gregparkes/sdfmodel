{
 "cells": [
  {
   "cell_type": "markdown",
   "id": "9643428c",
   "metadata": {},
   "source": [
    "# SDF Model Example 1: Using Pre-trained Models\n",
    "\n",
    "In this jupyter notebook, we're going to showcase how to use and deploy several of the pre-trained models we have developed using this data.\n",
    "\n",
    "Data and datasets are found in the `Data/` subfolder. Helper scripts and the `SDFModel` class are available in the `Scripts/` subfolder."
   ]
  },
  {
   "cell_type": "code",
   "execution_count": 1,
   "id": "2a879eb3",
   "metadata": {},
   "outputs": [],
   "source": [
    "# enables direct importing of .py files\n",
    "import sys\n",
    "sys.path.insert(0, \"Scripts/\")"
   ]
  },
  {
   "cell_type": "markdown",
   "id": "c07115c1",
   "metadata": {},
   "source": [
    "#### Version Control\n",
    "\n",
    "We output the version of all the main software to run this example. Optional software is included, which can be removed from the set if needed."
   ]
  },
  {
   "cell_type": "code",
   "execution_count": 2,
   "id": "0d499d5d",
   "metadata": {},
   "outputs": [
    {
     "name": "stdout",
     "output_type": "stream",
     "text": [
      "python: 3.9.4 | packaged by conda-forge | (default, May 10 2021, 22:10:34) [MSC v.1916 64 bit (AMD64)]\n",
      "pip: 21.1.2\n",
      "scipy: 1.6.2\n",
      "numpy: 1.19.2\n",
      "xlrd: 2.0.1\n",
      "tqdm: 4.59.0\n",
      "jupyter has no __version__ attribute.\n",
      "pandas: 1.2.3\n",
      "matplotlib: 3.3.4\n",
      "xgboost: 1.4.0\n",
      "joblib: 1.0.1\n",
      "seaborn: 0.11.1\n",
      "sklearn: 0.24.1\n"
     ]
    }
   ],
   "source": [
    "import version\n",
    "version.control({\"numpy\",\"scipy\",\"matplotlib\",\"pandas\",\"sklearn\",\n",
    "                 \"joblib\",\"tqdm\",\"jupyter\",\"xgboost\",\"seaborn\",\"xlrd\",\"pip\"})"
   ]
  },
  {
   "cell_type": "markdown",
   "id": "65533dce",
   "metadata": {},
   "source": [
    "### Other imports"
   ]
  },
  {
   "cell_type": "code",
   "execution_count": 3,
   "id": "0befdf36",
   "metadata": {},
   "outputs": [],
   "source": [
    "%matplotlib inline\n",
    "import numpy as np\n",
    "import joblib\n",
    "\n",
    "from sdfmodel import SDFModel\n",
    "from pandawrapper import read"
   ]
  },
  {
   "cell_type": "markdown",
   "id": "106d470f",
   "metadata": {},
   "source": [
    "## Unzipping data file\n",
    "\n",
    "If you haven't done so already, you will want to unzip the `datasets.zip` file. This can be done manually or by executing the following cell:"
   ]
  },
  {
   "cell_type": "code",
   "execution_count": 4,
   "id": "1bcec622",
   "metadata": {},
   "outputs": [],
   "source": [
    "#import zipfile\n",
    "#with zipfile.ZipFile(\"Data/datasets.zip\", 'r') as zip_ref:\n",
    "#    zip_ref.extractall(\"Data/\")"
   ]
  },
  {
   "cell_type": "markdown",
   "id": "4735c4d5",
   "metadata": {},
   "source": [
    "## Loading Pre-Trained Models\n",
    "\n",
    "This work follows from the thesis, whereby not only do we develop the curated dataset(s) which can be used, but we provide some basic pre-trained models which can plug-and-play given gene, mRNA or protein labels, the corresponding estimated protein abundance. Here are the following pre-trained models in the `Models/` subfolder. Read the `Develop_Pretrained_Models` iPython notebook to see the code for how these models were made.\n",
    "\n",
    "* `xgb_basic.pkl`: This pre-trained model was trained on `sPCA_dg_mca.csv` sequence-derived features and PAXDB protein abundance as found in `PAXDB_WHOLE_CONSENSUS.csv` as attached. \n",
    "\n",
    "Let's introduce the `SDFModel` class, a wrapper class for holding lots of data and having an extremely simple interface for accessing protein predictions.\n",
    "\n",
    "### Example 1: Random Uniprot IDs\n",
    "\n",
    "Here we will load in our sequence-derived feature dataset, randomly sample a few Uniprot IDs, and use these labels to generate predicted protein abundances:"
   ]
  },
  {
   "cell_type": "code",
   "execution_count": 19,
   "id": "7eca4c71",
   "metadata": {},
   "outputs": [],
   "source": [
    "# loading in sdfs\n",
    "sdf_set = read(\"Data/sPCA_dg_mca.csv\")\n",
    "# randomly sample 5 IDs\n",
    "choice_rng = np.random.choice(sdf_set['uniprot_id'].dropna().unique(), size=5)\n",
    "\n",
    "# build model and get predictions\n",
    "with SDFModel() as wrapper:\n",
    "    pred1 = wrapper.predict(choice_rng)\n",
    "    \n",
    "# also acceptable is\n",
    "\n",
    "# model = SDFModel()\n",
    "# model.load()"
   ]
  },
  {
   "cell_type": "markdown",
   "id": "5c73650c",
   "metadata": {},
   "source": [
    "#### Under the hood:\n",
    "\n",
    "What's happening here is as follows:\n",
    "\n",
    "1. We create a context using `with`, which loads in a series of files including HGNC label data, SDF data and the pre-trained model (in this case an [XGBoost](https://xgboost.ai/) regressor).\n",
    "2. We call `predict()` passing in some Uniprot IDs. These IDs are compared against every potential label column within HGNC, and the one with the largest hits is kept. Duplicates for this column are dropped and we select rows within the SDF dataset that map to the IDs. This subset is then mildly preprocessed and passed into the pre-trained model's `predict()` function yielding estimates of protein abundance.\n",
    "\n",
    "Here we see the predictions for a selection of random proteins. "
   ]
  },
  {
   "cell_type": "code",
   "execution_count": 20,
   "id": "53dc5e0a",
   "metadata": {},
   "outputs": [
    {
     "data": {
      "text/plain": [
       "A0PJE2    19.080572\n",
       "Q8TEK3    20.743275\n",
       "Q5T292    17.719656\n",
       "P09093    20.052114\n",
       "H3BTG2    17.837173\n",
       "dtype: float32"
      ]
     },
     "execution_count": 20,
     "metadata": {},
     "output_type": "execute_result"
    }
   ],
   "source": [
    "pred1"
   ]
  },
  {
   "cell_type": "markdown",
   "id": "5b481524",
   "metadata": {},
   "source": [
    "What is returned is a `pandas.Series` object which contains two parts:\n",
    "\n",
    "- An Index object: i.e the Uniprot ID, accessible via the `.index` attribute.\n",
    "- A values object: i.e the numbers, as a `numpy.ndarray`, accessible via the `.values`. attribute."
   ]
  },
  {
   "cell_type": "code",
   "execution_count": 21,
   "id": "abbb9032",
   "metadata": {},
   "outputs": [
    {
     "data": {
      "text/plain": [
       "Index(['A0PJE2', 'Q8TEK3', 'Q5T292', 'P09093', 'H3BTG2'], dtype='object')"
      ]
     },
     "execution_count": 21,
     "metadata": {},
     "output_type": "execute_result"
    }
   ],
   "source": [
    "pred1.index"
   ]
  },
  {
   "cell_type": "code",
   "execution_count": 22,
   "id": "e4ad7225",
   "metadata": {},
   "outputs": [
    {
     "data": {
      "text/plain": [
       "array([19.080572, 20.743275, 17.719656, 20.052114, 17.837173],\n",
       "      dtype=float32)"
      ]
     },
     "execution_count": 22,
     "metadata": {},
     "output_type": "execute_result"
    }
   ],
   "source": [
    "pred1.values"
   ]
  },
  {
   "cell_type": "markdown",
   "id": "20be8764",
   "metadata": {},
   "source": [
    "### Example 2: Proteins associated with Histones\n",
    "\n",
    "Something much more powerful is the in-built regular expression engine which we can utilize to match a [regular expression](https://en.wikipedia.org/wiki/Regular_expression) with HGNC, Uniprot, Ensembl and more. To activate this, set `regex=True` within the `predict()` method, passing in an appropriate regular expression string:"
   ]
  },
  {
   "cell_type": "code",
   "execution_count": 23,
   "id": "b27c9c77",
   "metadata": {},
   "outputs": [
    {
     "name": "stderr",
     "output_type": "stream",
     "text": [
      "C:\\Users\\Gregory\\Documents\\Git\\sdfmodel\\sdfmodel.py:141: UserWarning: merging operation returns 23 out of 54 selections.\n",
      "  warnings.warn(f\"merging operation returns {_tot} out of {N} selections.\", UserWarning)\n"
     ]
    }
   ],
   "source": [
    "ypred_hist = wrapper.predict(\"HIST\", regex=True)"
   ]
  },
  {
   "cell_type": "code",
   "execution_count": 24,
   "id": "fe697bc1",
   "metadata": {},
   "outputs": [
    {
     "data": {
      "text/plain": [
       "HIST2H2BF     29.221022\n",
       "HIST4H4       28.984224\n",
       "HIST1H2BJ     29.531399\n",
       "HIST1H1A      27.058922\n",
       "HIST1H1D      28.816559\n",
       "HIST2H2BE     29.361803\n",
       "HIST1H2AA     28.377468\n",
       "HIST1H2BL     29.116718\n",
       "HIST1H1B      29.263620\n",
       "HIST1H1C      29.342360\n",
       "HIST1H1T      26.466911\n",
       "HIST1H2AC     28.521139\n",
       "HIST1H1E      29.247229\n",
       "HIST1H2BD     29.470533\n",
       "HIST3H2A      28.879248\n",
       "HIST2H3C      28.640995\n",
       "HIST2H2AA4    28.388741\n",
       "HIST2H3A      28.640995\n",
       "HIST1H2AG     28.798422\n",
       "HIST1H2BK     29.773870\n",
       "HIST1H2AI     28.780424\n",
       "HIST1H2AD     28.532949\n",
       "HIST3H2BB     29.253187\n",
       "dtype: float32"
      ]
     },
     "execution_count": 24,
     "metadata": {},
     "output_type": "execute_result"
    }
   ],
   "source": [
    "ypred_hist"
   ]
  },
  {
   "cell_type": "markdown",
   "id": "a3a478d7",
   "metadata": {},
   "source": [
    "Note that HGNC contains have over 50 histone-associated proteins, there were only 23 that uniquely mapped to the SDF dataset via Refseq or Uniprot IDs. Hence it is preferable where possible to associate your data using Refseq or Uniprot IDs to maximise the chance of a successful merge. \n",
    "\n",
    "## Delving deeper\n",
    "\n",
    "If you type `SDFModel?` and run the box, you will see a pop up giving the documentation of the function. You may notice three key parameters involved:\n",
    "\n",
    "1. `model`: A pre-trained model such as XGBoost regressor\n",
    "2. `hgnc_data`: A string or `pandas.DataFrame` holding information from HGNC regarding Uniprot/Ensembl/Refseq labels.\n",
    "3. `sdf_data`: The sequence-derived feature dataset, in any form.\n",
    "\n",
    "Note that `SDFModel` does not perform any preprocessing on SDFs or the model, so if you want custom behaviour you will need to implement this yourself.\n",
    "\n",
    "Look at the example 2 notebook for details of building the model yourself from scratch, or incorporating your own expression or function data.\n",
    "\n",
    "## Extracting sequence information\n",
    "\n",
    "We also allow users to retrieve the sequence-information used for the prediction using the `get_X()` function, passing the same sort of arguments as `predict()`:"
   ]
  },
  {
   "cell_type": "code",
   "execution_count": 25,
   "id": "89dbd08a",
   "metadata": {},
   "outputs": [],
   "source": [
    "sdf_hist = wrapper.get_X(\"HIST\", regex=True)"
   ]
  },
  {
   "cell_type": "markdown",
   "id": "754af2c8",
   "metadata": {},
   "source": [
    "This returns a `pandas.DataFrame` where the columns contain the preprocessed sequence-derived features. The `PC_` prefix refers to the PCA transformation performed on this feature block (for instance mononucleotide-frequencies or 'mononuc_freq' for short). MCA features are amino-acid meta features compressed into a reduced space.\n",
    "\n",
    "Further details on the sequence-derived features can be found by looking at the `wrapper.SDF` object, which is a `PandaWrapper` custom object (`pandas.DataFrame` extended) with all the SDF information.\n",
    "\n",
    "We can examine the first 5 elements using the `.head()` function:"
   ]
  },
  {
   "cell_type": "code",
   "execution_count": 26,
   "id": "b614e855",
   "metadata": {},
   "outputs": [
    {
     "data": {
      "text/html": [
       "<div>\n",
       "<style scoped>\n",
       "    .dataframe tbody tr th:only-of-type {\n",
       "        vertical-align: middle;\n",
       "    }\n",
       "\n",
       "    .dataframe tbody tr th {\n",
       "        vertical-align: top;\n",
       "    }\n",
       "\n",
       "    .dataframe thead th {\n",
       "        text-align: right;\n",
       "    }\n",
       "</style>\n",
       "<table border=\"1\" class=\"dataframe\">\n",
       "  <thead>\n",
       "    <tr style=\"text-align: right;\">\n",
       "      <th></th>\n",
       "      <th>PC_mononuc_freq1</th>\n",
       "      <th>PC_mononuc_freq2</th>\n",
       "      <th>PC_mononuc_freq3</th>\n",
       "      <th>PC_mononuc_freq4</th>\n",
       "      <th>PC_mononuc_freq5</th>\n",
       "      <th>PC_mononuc_freq6</th>\n",
       "      <th>PC_mononuc_freq7</th>\n",
       "      <th>PC_mononuc_freq8</th>\n",
       "      <th>PC_length1</th>\n",
       "      <th>PC_length2</th>\n",
       "      <th>...</th>\n",
       "      <th>MCA15</th>\n",
       "      <th>MCA16</th>\n",
       "      <th>MCA17</th>\n",
       "      <th>MCA18</th>\n",
       "      <th>MCA19</th>\n",
       "      <th>MCA20</th>\n",
       "      <th>MCA21</th>\n",
       "      <th>MCA22</th>\n",
       "      <th>MCA23</th>\n",
       "      <th>MCA24</th>\n",
       "    </tr>\n",
       "  </thead>\n",
       "  <tbody>\n",
       "    <tr>\n",
       "      <th>HIST2H2BF</th>\n",
       "      <td>1.551194</td>\n",
       "      <td>4.234976</td>\n",
       "      <td>0.882136</td>\n",
       "      <td>0.771362</td>\n",
       "      <td>1.560955</td>\n",
       "      <td>0.762836</td>\n",
       "      <td>1.256641</td>\n",
       "      <td>-2.266010</td>\n",
       "      <td>4.020590</td>\n",
       "      <td>1.091487</td>\n",
       "      <td>...</td>\n",
       "      <td>0.226129</td>\n",
       "      <td>0.005118</td>\n",
       "      <td>-0.034526</td>\n",
       "      <td>-0.140586</td>\n",
       "      <td>0.094006</td>\n",
       "      <td>-0.017614</td>\n",
       "      <td>0.232691</td>\n",
       "      <td>0.010540</td>\n",
       "      <td>-0.037639</td>\n",
       "      <td>-0.116309</td>\n",
       "    </tr>\n",
       "    <tr>\n",
       "      <th>HIST4H4</th>\n",
       "      <td>3.097717</td>\n",
       "      <td>1.959984</td>\n",
       "      <td>-0.250161</td>\n",
       "      <td>-0.917209</td>\n",
       "      <td>0.923793</td>\n",
       "      <td>0.797303</td>\n",
       "      <td>0.159189</td>\n",
       "      <td>-2.256613</td>\n",
       "      <td>4.512522</td>\n",
       "      <td>1.049775</td>\n",
       "      <td>...</td>\n",
       "      <td>0.145326</td>\n",
       "      <td>-0.087231</td>\n",
       "      <td>0.124367</td>\n",
       "      <td>0.067893</td>\n",
       "      <td>0.005953</td>\n",
       "      <td>-0.032204</td>\n",
       "      <td>0.129857</td>\n",
       "      <td>-0.045251</td>\n",
       "      <td>-0.029975</td>\n",
       "      <td>-0.073027</td>\n",
       "    </tr>\n",
       "    <tr>\n",
       "      <th>HIST1H2BJ</th>\n",
       "      <td>1.212988</td>\n",
       "      <td>2.723823</td>\n",
       "      <td>0.297347</td>\n",
       "      <td>1.093486</td>\n",
       "      <td>1.535689</td>\n",
       "      <td>1.098086</td>\n",
       "      <td>1.140610</td>\n",
       "      <td>-2.164952</td>\n",
       "      <td>4.111015</td>\n",
       "      <td>1.229294</td>\n",
       "      <td>...</td>\n",
       "      <td>0.128936</td>\n",
       "      <td>0.008844</td>\n",
       "      <td>0.044085</td>\n",
       "      <td>-0.088423</td>\n",
       "      <td>0.049840</td>\n",
       "      <td>0.002773</td>\n",
       "      <td>0.108543</td>\n",
       "      <td>-0.022683</td>\n",
       "      <td>-0.029753</td>\n",
       "      <td>-0.088405</td>\n",
       "    </tr>\n",
       "    <tr>\n",
       "      <th>HIST1H1A</th>\n",
       "      <td>-0.546653</td>\n",
       "      <td>1.853111</td>\n",
       "      <td>0.710686</td>\n",
       "      <td>0.382463</td>\n",
       "      <td>2.294800</td>\n",
       "      <td>1.739040</td>\n",
       "      <td>0.554972</td>\n",
       "      <td>-2.576994</td>\n",
       "      <td>2.874803</td>\n",
       "      <td>1.364153</td>\n",
       "      <td>...</td>\n",
       "      <td>0.107329</td>\n",
       "      <td>0.042031</td>\n",
       "      <td>0.018070</td>\n",
       "      <td>-0.084658</td>\n",
       "      <td>0.016924</td>\n",
       "      <td>-0.026044</td>\n",
       "      <td>0.085044</td>\n",
       "      <td>0.057265</td>\n",
       "      <td>-0.089144</td>\n",
       "      <td>0.087073</td>\n",
       "    </tr>\n",
       "    <tr>\n",
       "      <th>HIST1H1D</th>\n",
       "      <td>0.104160</td>\n",
       "      <td>3.506612</td>\n",
       "      <td>0.468844</td>\n",
       "      <td>-0.868451</td>\n",
       "      <td>2.493956</td>\n",
       "      <td>0.877680</td>\n",
       "      <td>-0.728570</td>\n",
       "      <td>-1.524019</td>\n",
       "      <td>2.904579</td>\n",
       "      <td>1.587633</td>\n",
       "      <td>...</td>\n",
       "      <td>0.173593</td>\n",
       "      <td>0.054218</td>\n",
       "      <td>0.043127</td>\n",
       "      <td>-0.120866</td>\n",
       "      <td>0.027369</td>\n",
       "      <td>-0.019529</td>\n",
       "      <td>0.080314</td>\n",
       "      <td>0.034861</td>\n",
       "      <td>-0.171507</td>\n",
       "      <td>0.077141</td>\n",
       "    </tr>\n",
       "  </tbody>\n",
       "</table>\n",
       "<p>5 rows × 135 columns</p>\n",
       "</div>"
      ],
      "text/plain": [
       "           PC_mononuc_freq1  PC_mononuc_freq2  PC_mononuc_freq3  \\\n",
       "HIST2H2BF          1.551194          4.234976          0.882136   \n",
       "HIST4H4            3.097717          1.959984         -0.250161   \n",
       "HIST1H2BJ          1.212988          2.723823          0.297347   \n",
       "HIST1H1A          -0.546653          1.853111          0.710686   \n",
       "HIST1H1D           0.104160          3.506612          0.468844   \n",
       "\n",
       "           PC_mononuc_freq4  PC_mononuc_freq5  PC_mononuc_freq6  \\\n",
       "HIST2H2BF          0.771362          1.560955          0.762836   \n",
       "HIST4H4           -0.917209          0.923793          0.797303   \n",
       "HIST1H2BJ          1.093486          1.535689          1.098086   \n",
       "HIST1H1A           0.382463          2.294800          1.739040   \n",
       "HIST1H1D          -0.868451          2.493956          0.877680   \n",
       "\n",
       "           PC_mononuc_freq7  PC_mononuc_freq8  PC_length1  PC_length2  ...  \\\n",
       "HIST2H2BF          1.256641         -2.266010    4.020590    1.091487  ...   \n",
       "HIST4H4            0.159189         -2.256613    4.512522    1.049775  ...   \n",
       "HIST1H2BJ          1.140610         -2.164952    4.111015    1.229294  ...   \n",
       "HIST1H1A           0.554972         -2.576994    2.874803    1.364153  ...   \n",
       "HIST1H1D          -0.728570         -1.524019    2.904579    1.587633  ...   \n",
       "\n",
       "              MCA15     MCA16     MCA17     MCA18     MCA19     MCA20  \\\n",
       "HIST2H2BF  0.226129  0.005118 -0.034526 -0.140586  0.094006 -0.017614   \n",
       "HIST4H4    0.145326 -0.087231  0.124367  0.067893  0.005953 -0.032204   \n",
       "HIST1H2BJ  0.128936  0.008844  0.044085 -0.088423  0.049840  0.002773   \n",
       "HIST1H1A   0.107329  0.042031  0.018070 -0.084658  0.016924 -0.026044   \n",
       "HIST1H1D   0.173593  0.054218  0.043127 -0.120866  0.027369 -0.019529   \n",
       "\n",
       "              MCA21     MCA22     MCA23     MCA24  \n",
       "HIST2H2BF  0.232691  0.010540 -0.037639 -0.116309  \n",
       "HIST4H4    0.129857 -0.045251 -0.029975 -0.073027  \n",
       "HIST1H2BJ  0.108543 -0.022683 -0.029753 -0.088405  \n",
       "HIST1H1A   0.085044  0.057265 -0.089144  0.087073  \n",
       "HIST1H1D   0.080314  0.034861 -0.171507  0.077141  \n",
       "\n",
       "[5 rows x 135 columns]"
      ]
     },
     "execution_count": 26,
     "metadata": {},
     "output_type": "execute_result"
    }
   ],
   "source": [
    "sdf_hist.head()"
   ]
  },
  {
   "cell_type": "markdown",
   "id": "dccf0213",
   "metadata": {},
   "source": [
    "### Main objects\n",
    "\n",
    "The `SDFModel` class has three major objects which users can directly access:\n",
    "\n",
    "1. `model`: This is the pre-trained model. Note that for `predict()` to work, the model object must have a `predict` function, and must be fitted with valid coefficients. In this example, we used the `xgboost.XGBRegressor` class to fit our data to.\n",
    "2. `hgnc`: This is a PandaWrapper containing labels. It doesn't necessarily have to be from HGNC, but they have a formal gene naming convention which makes it a natural table to align different foreign database labels to.\n",
    "3. `SDF`: sequence-derived feature dataset that is preprocessed."
   ]
  },
  {
   "cell_type": "code",
   "execution_count": 29,
   "id": "f76448f0",
   "metadata": {},
   "outputs": [
    {
     "data": {
      "text/html": [
       "PandaWrapper(sPCA_dg_mca(n=15269, p=137, mem=16.735MB))"
      ],
      "text/plain": [
       "PandaWrapper(sPCA_dg_mca(n=15269, p=137, mem=16.735MB))"
      ]
     },
     "execution_count": 29,
     "metadata": {},
     "output_type": "execute_result"
    }
   ],
   "source": [
    "wrapper.SDF"
   ]
  },
  {
   "cell_type": "code",
   "execution_count": 30,
   "id": "b25ba897",
   "metadata": {},
   "outputs": [
    {
     "data": {
      "text/html": [
       "PandaWrapper(hgnc_labels(n=504934, p=8, mem=32.316MB))"
      ],
      "text/plain": [
       "PandaWrapper(hgnc_labels(n=504934, p=8, mem=32.316MB))"
      ]
     },
     "execution_count": 30,
     "metadata": {},
     "output_type": "execute_result"
    }
   ],
   "source": [
    "wrapper.hgnc"
   ]
  },
  {
   "cell_type": "code",
   "execution_count": 31,
   "id": "6085cbfa",
   "metadata": {},
   "outputs": [
    {
     "data": {
      "text/plain": [
       "XGBRegressor(alpha=0.00016833956095964933, base_score=0.5, booster='gbtree',\n",
       "             colsample_bylevel=1, colsample_bynode=1, colsample_bytree=1,\n",
       "             gamma=0, gpu_id=-1, importance_type='gain',\n",
       "             interaction_constraints='', lambda=0.0022679853779692554,\n",
       "             learning_rate=0.07466704456230339, max_delta_step=0, max_depth=6,\n",
       "             min_child_weight=1, missing=nan, monotone_constraints='()',\n",
       "             n_estimators=100, n_jobs=8, num_parallel_tree=1, random_state=0,\n",
       "             reg_alpha=0.000168339568, reg_lambda=0.00226798537,\n",
       "             scale_pos_weight=1, subsample=1, tree_method='exact',\n",
       "             validate_parameters=1, verbosity=None)"
      ]
     },
     "execution_count": 31,
     "metadata": {},
     "output_type": "execute_result"
    }
   ],
   "source": [
    "wrapper.model"
   ]
  },
  {
   "cell_type": "markdown",
   "id": "f3a88b19",
   "metadata": {},
   "source": [
    "\n",
    "You could then simply generate the predictions yourself using the pre-trained model provided:"
   ]
  },
  {
   "cell_type": "code",
   "execution_count": 17,
   "id": "caa79f45",
   "metadata": {},
   "outputs": [
    {
     "data": {
      "text/plain": [
       "array([29.221022, 28.984224, 29.531399, 27.058922, 28.816559, 29.361803,\n",
       "       28.377468, 29.116718, 29.26362 , 29.34236 , 26.466911, 28.52114 ,\n",
       "       29.247229, 29.470533, 28.879248, 28.640995, 28.38874 , 28.640995,\n",
       "       28.798422, 29.77387 , 28.780424, 28.53295 , 29.253187],\n",
       "      dtype=float32)"
      ]
     },
     "execution_count": 17,
     "metadata": {},
     "output_type": "execute_result"
    }
   ],
   "source": [
    "wrapper.model.predict(sdf_hist)"
   ]
  }
 ],
 "metadata": {
  "kernelspec": {
   "display_name": "Python 3",
   "language": "python",
   "name": "python3"
  },
  "language_info": {
   "codemirror_mode": {
    "name": "ipython",
    "version": 3
   },
   "file_extension": ".py",
   "mimetype": "text/x-python",
   "name": "python",
   "nbconvert_exporter": "python",
   "pygments_lexer": "ipython3",
   "version": "3.9.4"
  }
 },
 "nbformat": 4,
 "nbformat_minor": 5
}
